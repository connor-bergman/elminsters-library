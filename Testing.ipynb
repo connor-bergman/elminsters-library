{
 "cells": [
  {
   "cell_type": "code",
   "execution_count": 1,
   "id": "28cf60c7",
   "metadata": {},
   "outputs": [],
   "source": [
    "import pandas as pd\n",
    "import numpy as np"
   ]
  },
  {
   "cell_type": "code",
   "execution_count": 2,
   "id": "71ec6735",
   "metadata": {},
   "outputs": [],
   "source": [
    "df = pd.DataFrame(columns=['classes'])"
   ]
  },
  {
   "cell_type": "code",
   "execution_count": 8,
   "id": "472217c2",
   "metadata": {},
   "outputs": [],
   "source": [
    "df.loc[len(df)] = [['warlock', 'wizard', 'sorcerer']]"
   ]
  },
  {
   "cell_type": "code",
   "execution_count": 7,
   "id": "445f9648",
   "metadata": {},
   "outputs": [
    {
     "data": {
      "text/plain": [
       "0"
      ]
     },
     "execution_count": 7,
     "metadata": {},
     "output_type": "execute_result"
    }
   ],
   "source": [
    "len(df)"
   ]
  },
  {
   "cell_type": "code",
   "execution_count": 9,
   "id": "46bac6c4",
   "metadata": {},
   "outputs": [
    {
     "data": {
      "text/html": [
       "<div>\n",
       "<style scoped>\n",
       "    .dataframe tbody tr th:only-of-type {\n",
       "        vertical-align: middle;\n",
       "    }\n",
       "\n",
       "    .dataframe tbody tr th {\n",
       "        vertical-align: top;\n",
       "    }\n",
       "\n",
       "    .dataframe thead th {\n",
       "        text-align: right;\n",
       "    }\n",
       "</style>\n",
       "<table border=\"1\" class=\"dataframe\">\n",
       "  <thead>\n",
       "    <tr style=\"text-align: right;\">\n",
       "      <th></th>\n",
       "      <th>classes</th>\n",
       "    </tr>\n",
       "  </thead>\n",
       "  <tbody>\n",
       "    <tr>\n",
       "      <th>0</th>\n",
       "      <td>[warlock, wizard, sorcerer]</td>\n",
       "    </tr>\n",
       "  </tbody>\n",
       "</table>\n",
       "</div>"
      ],
      "text/plain": [
       "                       classes\n",
       "0  [warlock, wizard, sorcerer]"
      ]
     },
     "execution_count": 9,
     "metadata": {},
     "output_type": "execute_result"
    }
   ],
   "source": [
    "df"
   ]
  },
  {
   "cell_type": "code",
   "execution_count": 10,
   "id": "93c98f3d",
   "metadata": {},
   "outputs": [],
   "source": [
    "df.to_csv(\"test.csv\")"
   ]
  },
  {
   "cell_type": "code",
   "execution_count": 17,
   "id": "efaa15f0",
   "metadata": {},
   "outputs": [],
   "source": [
    "df_again = pd.read_csv(\"test.csv\")"
   ]
  },
  {
   "cell_type": "code",
   "execution_count": 17,
   "id": "4d3b1719",
   "metadata": {},
   "outputs": [],
   "source": [
    "def score_to_mod(score):\n",
    "    return int(score/2) - 5"
   ]
  },
  {
   "cell_type": "code",
   "execution_count": 19,
   "id": "e4b00103",
   "metadata": {},
   "outputs": [
    {
     "data": {
      "text/plain": [
       "3"
      ]
     },
     "execution_count": 19,
     "metadata": {},
     "output_type": "execute_result"
    }
   ],
   "source": [
    "score_to_mod(16)"
   ]
  },
  {
   "cell_type": "code",
   "execution_count": 6,
   "id": "ac173984",
   "metadata": {},
   "outputs": [
    {
     "data": {
      "text/plain": [
       "False"
      ]
     },
     "execution_count": 6,
     "metadata": {},
     "output_type": "execute_result"
    }
   ],
   "source": [
    "test_dict = {\"One\": 1,\n",
    "             \"Two\": 2,\n",
    "             \"Three\": 3,\n",
    "             \"Four\": 4,\n",
    "             \"Five\": 5}\n",
    "\n",
    "empty_dict = {}\n",
    "\n",
    "None in list(empty_dict.values())"
   ]
  },
  {
   "cell_type": "code",
   "execution_count": 1,
   "id": "e3da0eef",
   "metadata": {},
   "outputs": [],
   "source": [
    "class Race:\n",
    "\n",
    "    def chooseSubrace(self):\n",
    "        pass"
   ]
  },
  {
   "cell_type": "code",
   "execution_count": 4,
   "id": "7ba7e85f",
   "metadata": {},
   "outputs": [],
   "source": [
    "Race().chooseSubrace()"
   ]
  },
  {
   "cell_type": "code",
   "execution_count": 4,
   "id": "7801beda",
   "metadata": {},
   "outputs": [
    {
     "data": {
      "text/plain": [
       "False"
      ]
     },
     "execution_count": 4,
     "metadata": {},
     "output_type": "execute_result"
    }
   ],
   "source": [
    "hasattr(Race, \"chooseSubrae\")"
   ]
  },
  {
   "cell_type": "code",
   "execution_count": 4,
   "id": "62ca3c1d",
   "metadata": {},
   "outputs": [
    {
     "data": {
      "text/plain": [
       "array([ 1,  2,  3,  4,  5,  6,  7,  8,  9, 10, 11, 12, 13])"
      ]
     },
     "execution_count": 4,
     "metadata": {},
     "output_type": "execute_result"
    }
   ],
   "source": [
    "total_levels = 7\n",
    "\n",
    "np.arange(1,21-total_levels)"
   ]
  }
 ],
 "metadata": {
  "kernelspec": {
   "display_name": "Python (tsai)",
   "language": "python",
   "name": "tsai"
  },
  "language_info": {
   "codemirror_mode": {
    "name": "ipython",
    "version": 3
   },
   "file_extension": ".py",
   "mimetype": "text/x-python",
   "name": "python",
   "nbconvert_exporter": "python",
   "pygments_lexer": "ipython3",
   "version": "3.9.16"
  }
 },
 "nbformat": 4,
 "nbformat_minor": 5
}
